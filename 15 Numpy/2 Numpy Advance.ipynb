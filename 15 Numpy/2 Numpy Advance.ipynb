{
 "cells": [
  {
   "cell_type": "markdown",
   "metadata": {},
   "source": [
    "<h5>Here we explore some more array generating numpy functions. and np.random class, reshaping arrays, etc.</h5>"
   ]
  },
  {
   "cell_type": "code",
   "execution_count": 1,
   "metadata": {},
   "outputs": [],
   "source": [
    "import numpy as np\n",
    "import random #np came up with its own functions of generating random numbers\n",
    "#and thus, we started using np.random class istead of the original random library.\n",
    "import pandas as pd"
   ]
  },
  {
   "cell_type": "code",
   "execution_count": 2,
   "metadata": {},
   "outputs": [
    {
     "data": {
      "text/plain": [
       "array([[1., 1., 1., 1.],\n",
       "       [1., 1., 1., 1.],\n",
       "       [1., 1., 1., 1.]])"
      ]
     },
     "execution_count": 2,
     "metadata": {},
     "output_type": "execute_result"
    }
   ],
   "source": [
    "arr=np.ones(shape=(3,4))\n",
    "arr"
   ]
  },
  {
   "cell_type": "code",
   "execution_count": 3,
   "metadata": {},
   "outputs": [
    {
     "data": {
      "text/plain": [
       "array([[6., 6., 6., 6.],\n",
       "       [6., 6., 6., 6.],\n",
       "       [6., 6., 6., 6.]])"
      ]
     },
     "execution_count": 3,
     "metadata": {},
     "output_type": "execute_result"
    }
   ],
   "source": [
    "arr+5  #goes through every number and adds 5"
   ]
  },
  {
   "cell_type": "markdown",
   "metadata": {},
   "source": [
    "np.empty() is a very unique function, gives you a nd array of random values. It's weird cause it is giving an array of elements being all 6, the same as arr+5. "
   ]
  },
  {
   "cell_type": "code",
   "execution_count": 4,
   "metadata": {},
   "outputs": [
    {
     "data": {
      "text/plain": [
       "array([[6., 6., 6., 6.],\n",
       "       [6., 6., 6., 6.],\n",
       "       [6., 6., 6., 6.]])"
      ]
     },
     "execution_count": 4,
     "metadata": {},
     "output_type": "execute_result"
    }
   ],
   "source": [
    "# np.ones((100000,10000))*5 #takes 12 seconds\n",
    "np.empty((3,4))"
   ]
  },
  {
   "cell_type": "markdown",
   "metadata": {},
   "source": [
    "But here it stops giving 6 and gives random values"
   ]
  },
  {
   "cell_type": "code",
   "execution_count": 5,
   "metadata": {},
   "outputs": [
    {
     "data": {
      "text/plain": [
       "array([[2.11398144e-307, 1.89144180e-307, 2.11392372e-307,\n",
       "        6.89795644e-307, 3.56042035e-307],\n",
       "       [1.33509117e-306, 1.69119873e-306, 1.33509389e-306,\n",
       "        8.34443864e-308, 1.00132822e-307],\n",
       "       [6.89795644e-307, 2.33645997e-307, 5.56296306e-307,\n",
       "        3.11520356e-307, 4.67291993e-307],\n",
       "       [2.78148153e-307, 1.50198172e-307, 4.45047026e-307,\n",
       "        1.61323712e-307, 3.31023983e-322]])"
      ]
     },
     "execution_count": 5,
     "metadata": {},
     "output_type": "execute_result"
    }
   ],
   "source": [
    "np.empty((4,5))"
   ]
  },
  {
   "cell_type": "code",
   "execution_count": 6,
   "metadata": {},
   "outputs": [
    {
     "data": {
      "text/plain": [
       "array([[8., 8., 8., 8.],\n",
       "       [8., 8., 8., 8.],\n",
       "       [8., 8., 8., 8.]])"
      ]
     },
     "execution_count": 6,
     "metadata": {},
     "output_type": "execute_result"
    }
   ],
   "source": [
    "arr+7"
   ]
  },
  {
   "cell_type": "markdown",
   "metadata": {},
   "source": [
    "#same shizz again. gives 8, same as arr+7"
   ]
  },
  {
   "cell_type": "code",
   "execution_count": 7,
   "metadata": {},
   "outputs": [
    {
     "data": {
      "text/plain": [
       "array([[8., 8., 8., 8.],\n",
       "       [8., 8., 8., 8.],\n",
       "       [8., 8., 8., 8.]])"
      ]
     },
     "execution_count": 7,
     "metadata": {},
     "output_type": "execute_result"
    }
   ],
   "source": [
    "np.empty(shape=(3,4))"
   ]
  },
  {
   "cell_type": "code",
   "execution_count": 8,
   "metadata": {},
   "outputs": [
    {
     "data": {
      "text/plain": [
       "array([[0, 0, 0, 0],\n",
       "       [0, 0, 0, 0],\n",
       "       [0, 0, 0, 0]])"
      ]
     },
     "execution_count": 8,
     "metadata": {},
     "output_type": "execute_result"
    }
   ],
   "source": [
    "np.empty((3,4), int)"
   ]
  },
  {
   "cell_type": "code",
   "execution_count": 9,
   "metadata": {},
   "outputs": [
    {
     "data": {
      "text/plain": [
       "array([1.02300606e-311, 1.02280197e-311, 1.02300605e-311])"
      ]
     },
     "execution_count": 9,
     "metadata": {},
     "output_type": "execute_result"
    }
   ],
   "source": [
    "np.empty(3)"
   ]
  },
  {
   "cell_type": "code",
   "execution_count": 10,
   "metadata": {},
   "outputs": [
    {
     "data": {
      "text/plain": [
       "array([[8., 8., 8., 8.],\n",
       "       [8., 8., 8., 8.],\n",
       "       [8., 8., 8., 8.]])"
      ]
     },
     "execution_count": 10,
     "metadata": {},
     "output_type": "execute_result"
    }
   ],
   "source": [
    "np.empty((3,4), float)"
   ]
  },
  {
   "cell_type": "code",
   "execution_count": 11,
   "metadata": {},
   "outputs": [
    {
     "data": {
      "text/plain": [
       "array([[8., 8., 8., 8.],\n",
       "       [8., 8., 8., 8.],\n",
       "       [8., 8., 8., 8.]])"
      ]
     },
     "execution_count": 11,
     "metadata": {},
     "output_type": "execute_result"
    }
   ],
   "source": [
    "np.empty((3,4), float) #weird, sometimes it returns random numbers\n"
   ]
  },
  {
   "cell_type": "markdown",
   "metadata": {},
   "source": [
    "np.eye(), Return a 2-D array with ones on the diagonal and zeros elsewhere"
   ]
  },
  {
   "cell_type": "code",
   "execution_count": 12,
   "metadata": {},
   "outputs": [
    {
     "data": {
      "text/plain": [
       "array([[1., 0., 0., 0., 0.],\n",
       "       [0., 1., 0., 0., 0.],\n",
       "       [0., 0., 1., 0., 0.],\n",
       "       [0., 0., 0., 1., 0.],\n",
       "       [0., 0., 0., 0., 1.]])"
      ]
     },
     "execution_count": 12,
     "metadata": {},
     "output_type": "execute_result"
    }
   ],
   "source": [
    "np.eye(5)"
   ]
  },
  {
   "cell_type": "code",
   "execution_count": 13,
   "metadata": {},
   "outputs": [
    {
     "data": {
      "text/plain": [
       "array([[1., 0., 0., 0., 0., 0.],\n",
       "       [0., 1., 0., 0., 0., 0.],\n",
       "       [0., 0., 1., 0., 0., 0.]])"
      ]
     },
     "execution_count": 13,
     "metadata": {},
     "output_type": "execute_result"
    }
   ],
   "source": [
    "np.eye(3,6)"
   ]
  },
  {
   "cell_type": "code",
   "execution_count": 14,
   "metadata": {},
   "outputs": [
    {
     "data": {
      "text/plain": [
       "array([['1', '', ''],\n",
       "       ['', '1', ''],\n",
       "       ['', '', '1']], dtype='<U1')"
      ]
     },
     "execution_count": 14,
     "metadata": {},
     "output_type": "execute_result"
    }
   ],
   "source": [
    "np.eye(3, dtype=str)"
   ]
  },
  {
   "cell_type": "markdown",
   "metadata": {},
   "source": [
    "making a dataframe from an array"
   ]
  },
  {
   "cell_type": "code",
   "execution_count": 15,
   "metadata": {},
   "outputs": [
    {
     "data": {
      "text/html": [
       "<div>\n",
       "<style scoped>\n",
       "    .dataframe tbody tr th:only-of-type {\n",
       "        vertical-align: middle;\n",
       "    }\n",
       "\n",
       "    .dataframe tbody tr th {\n",
       "        vertical-align: top;\n",
       "    }\n",
       "\n",
       "    .dataframe thead th {\n",
       "        text-align: right;\n",
       "    }\n",
       "</style>\n",
       "<table border=\"1\" class=\"dataframe\">\n",
       "  <thead>\n",
       "    <tr style=\"text-align: right;\">\n",
       "      <th></th>\n",
       "      <th>0</th>\n",
       "      <th>1</th>\n",
       "      <th>2</th>\n",
       "    </tr>\n",
       "  </thead>\n",
       "  <tbody>\n",
       "    <tr>\n",
       "      <th>0</th>\n",
       "      <td>1</td>\n",
       "      <td>0</td>\n",
       "      <td>0</td>\n",
       "    </tr>\n",
       "    <tr>\n",
       "      <th>1</th>\n",
       "      <td>0</td>\n",
       "      <td>1</td>\n",
       "      <td>0</td>\n",
       "    </tr>\n",
       "    <tr>\n",
       "      <th>2</th>\n",
       "      <td>0</td>\n",
       "      <td>0</td>\n",
       "      <td>1</td>\n",
       "    </tr>\n",
       "  </tbody>\n",
       "</table>\n",
       "</div>"
      ],
      "text/plain": [
       "   0  1  2\n",
       "0  1  0  0\n",
       "1  0  1  0\n",
       "2  0  0  1"
      ]
     },
     "execution_count": 15,
     "metadata": {},
     "output_type": "execute_result"
    }
   ],
   "source": [
    "pd.DataFrame(np.eye(3,3, dtype=int))"
   ]
  },
  {
   "cell_type": "code",
   "execution_count": 16,
   "metadata": {},
   "outputs": [
    {
     "data": {
      "text/plain": [
       "6"
      ]
     },
     "execution_count": 16,
     "metadata": {},
     "output_type": "execute_result"
    }
   ],
   "source": [
    "random.choice(seq=[1,2,4,4,5,6])  #choose any one"
   ]
  },
  {
   "cell_type": "code",
   "execution_count": 17,
   "metadata": {},
   "outputs": [
    {
     "data": {
      "text/plain": [
       "3"
      ]
     },
     "execution_count": 17,
     "metadata": {},
     "output_type": "execute_result"
    }
   ],
   "source": [
    "random.choice((1,2,3,4,5,6,7,8))  "
   ]
  },
  {
   "cell_type": "markdown",
   "metadata": {},
   "source": [
    "random.randrange to generate any number between the given range,itegers only."
   ]
  },
  {
   "cell_type": "code",
   "execution_count": 18,
   "metadata": {},
   "outputs": [
    {
     "name": "stdout",
     "output_type": "stream",
     "text": [
      "4\n",
      "4\n",
      "4\n"
     ]
    },
    {
     "name": "stderr",
     "output_type": "stream",
     "text": [
      "C:\\Users\\Pc\\AppData\\Local\\Temp\\ipykernel_12432\\4165053056.py:1: DeprecationWarning: non-integer arguments to randrange() have been deprecated since Python 3.10 and will be removed in a subsequent version\n",
      "  print(random.randrange(1,10.0,1))  #only 1,3,5,7,9\n"
     ]
    }
   ],
   "source": [
    "print(random.randrange(1,10.0,1))  #only 1,3,5,7,9\n",
    "print(random.randrange(5))  #0,1,2,3 or 4\n",
    "print(random.randrange(1,10))  #1 to 9"
   ]
  },
  {
   "cell_type": "code",
   "execution_count": 19,
   "metadata": {},
   "outputs": [],
   "source": [
    "l=[1,2,3,4,5,123,43,453]\n",
    "random.shuffle(l)"
   ]
  },
  {
   "cell_type": "code",
   "execution_count": 20,
   "metadata": {},
   "outputs": [
    {
     "name": "stdout",
     "output_type": "stream",
     "text": [
      "[43, 1, 3, 5, 123, 2, 4, 453]\n",
      "3\n"
     ]
    }
   ],
   "source": [
    "print(l)\n",
    "print(l[2])"
   ]
  },
  {
   "cell_type": "code",
   "execution_count": 21,
   "metadata": {},
   "outputs": [
    {
     "data": {
      "text/plain": [
       "10.407054876637254"
      ]
     },
     "execution_count": 21,
     "metadata": {},
     "output_type": "execute_result"
    }
   ],
   "source": [
    "random.uniform(5,15)  #get a random number between the range, each number has an equal probability"
   ]
  },
  {
   "cell_type": "markdown",
   "metadata": {},
   "source": [
    "<h2>np.random </h2>"
   ]
  },
  {
   "cell_type": "code",
   "execution_count": 22,
   "metadata": {},
   "outputs": [
    {
     "data": {
      "text/plain": [
       "0.5360202479013286"
      ]
     },
     "execution_count": 22,
     "metadata": {},
     "output_type": "execute_result"
    }
   ],
   "source": [
    "np.random.rand() #return a number between 0 and 1, excluding one"
   ]
  },
  {
   "cell_type": "code",
   "execution_count": 23,
   "metadata": {},
   "outputs": [
    {
     "data": {
      "text/plain": [
       "array([[0.08982094, 0.03003927],\n",
       "       [0.19164563, 0.72955078],\n",
       "       [0.27874915, 0.89260584]])"
      ]
     },
     "execution_count": 23,
     "metadata": {},
     "output_type": "execute_result"
    }
   ],
   "source": [
    "np.random.rand(3,2)  #numbers between 0 and 1, 2d array"
   ]
  },
  {
   "cell_type": "code",
   "execution_count": 24,
   "metadata": {},
   "outputs": [
    {
     "data": {
      "text/plain": [
       "array([0.78791176, 0.7873377 , 0.52030075, 0.92800347, 0.79695437])"
      ]
     },
     "execution_count": 24,
     "metadata": {},
     "output_type": "execute_result"
    }
   ],
   "source": [
    "np.random.rand(5)  #1d array of size 5"
   ]
  },
  {
   "cell_type": "markdown",
   "metadata": {},
   "source": [
    "randn: Return a sample (or samples) from the “standard normal” distribution."
   ]
  },
  {
   "cell_type": "code",
   "execution_count": 25,
   "metadata": {},
   "outputs": [
    {
     "data": {
      "text/plain": [
       "array([1.56965442])"
      ]
     },
     "execution_count": 25,
     "metadata": {},
     "output_type": "execute_result"
    }
   ],
   "source": [
    "np.random.randn(1)"
   ]
  },
  {
   "cell_type": "code",
   "execution_count": 26,
   "metadata": {},
   "outputs": [
    {
     "data": {
      "text/plain": [
       "array([-1.02983672, -0.27838509,  1.68515784, -2.01521171])"
      ]
     },
     "execution_count": 26,
     "metadata": {},
     "output_type": "execute_result"
    }
   ],
   "source": [
    "np.random.randn(4)"
   ]
  },
  {
   "cell_type": "code",
   "execution_count": 27,
   "metadata": {},
   "outputs": [
    {
     "name": "stdout",
     "output_type": "stream",
     "text": [
      "0.10997959884109851\n"
     ]
    }
   ],
   "source": [
    "l=np.random.randn(4)\n",
    "\n",
    "sum=0\n",
    "for i in l:\n",
    "    sum+=i\n",
    "print(sum/4)  #so this shows that the numbers are generated from \n",
    "# a normal distribution of mean 0 and std 1 but that does not mean that the values generated\n",
    "#have mean 0 and std1"
   ]
  },
  {
   "cell_type": "code",
   "execution_count": 28,
   "metadata": {},
   "outputs": [
    {
     "data": {
      "text/plain": [
       "array([[[[[-0.08538285],\n",
       "          [ 0.17352919],\n",
       "          [ 0.62437673],\n",
       "          [-0.18395786],\n",
       "          [ 0.7955869 ],\n",
       "          [-0.2831058 ]],\n",
       "\n",
       "         [[-1.03087553],\n",
       "          [-0.31438115],\n",
       "          [-1.1918492 ],\n",
       "          [ 1.72012236],\n",
       "          [-0.86817361],\n",
       "          [ 1.00717937]],\n",
       "\n",
       "         [[ 1.63676995],\n",
       "          [-2.72051733],\n",
       "          [-1.29179354],\n",
       "          [ 1.20111387],\n",
       "          [-0.17133965],\n",
       "          [-0.0907068 ]],\n",
       "\n",
       "         [[ 0.40985925],\n",
       "          [-0.35869334],\n",
       "          [-0.67023212],\n",
       "          [-0.74155483],\n",
       "          [ 1.44574581],\n",
       "          [ 0.9154201 ]],\n",
       "\n",
       "         [[ 0.19962733],\n",
       "          [ 1.47706217],\n",
       "          [ 0.7365861 ],\n",
       "          [-0.49809207],\n",
       "          [-0.31569612],\n",
       "          [-1.15834058]]],\n",
       "\n",
       "\n",
       "        [[[-0.17625317],\n",
       "          [-0.62958755],\n",
       "          [ 0.96329962],\n",
       "          [ 0.39789747],\n",
       "          [ 1.24328776],\n",
       "          [ 1.91726907]],\n",
       "\n",
       "         [[ 0.43898459],\n",
       "          [-0.49966454],\n",
       "          [ 0.19522837],\n",
       "          [ 0.75405689],\n",
       "          [ 1.06676424],\n",
       "          [ 2.24637452]],\n",
       "\n",
       "         [[-1.53866543],\n",
       "          [-1.04325378],\n",
       "          [-1.03770605],\n",
       "          [-0.22148212],\n",
       "          [-0.58431152],\n",
       "          [-1.26869493]],\n",
       "\n",
       "         [[ 1.0237476 ],\n",
       "          [ 0.19754189],\n",
       "          [ 1.78434843],\n",
       "          [ 0.06474734],\n",
       "          [-0.78588913],\n",
       "          [-0.65316144]],\n",
       "\n",
       "         [[ 1.56743345],\n",
       "          [-1.00719948],\n",
       "          [ 0.79038431],\n",
       "          [-0.92797272],\n",
       "          [ 0.13585801],\n",
       "          [ 0.84072973]]],\n",
       "\n",
       "\n",
       "        [[[-1.55723982],\n",
       "          [-1.89508581],\n",
       "          [ 0.52233566],\n",
       "          [ 0.3131588 ],\n",
       "          [ 0.26479376],\n",
       "          [-2.55981081]],\n",
       "\n",
       "         [[-0.6600191 ],\n",
       "          [-1.30346373],\n",
       "          [ 0.34006793],\n",
       "          [-0.81905292],\n",
       "          [ 0.27798759],\n",
       "          [ 1.56279789]],\n",
       "\n",
       "         [[ 1.37257315],\n",
       "          [ 1.5563667 ],\n",
       "          [ 0.38858112],\n",
       "          [ 0.21880805],\n",
       "          [ 0.63110874],\n",
       "          [ 0.2964294 ]],\n",
       "\n",
       "         [[ 0.07018017],\n",
       "          [-1.15409865],\n",
       "          [-0.42564539],\n",
       "          [ 0.93386403],\n",
       "          [ 0.68445915],\n",
       "          [-0.97807884]],\n",
       "\n",
       "         [[-0.87726858],\n",
       "          [ 0.2095623 ],\n",
       "          [-0.86815071],\n",
       "          [-1.6407413 ],\n",
       "          [ 0.501917  ],\n",
       "          [ 0.96994782]]],\n",
       "\n",
       "\n",
       "        [[[ 1.27484541],\n",
       "          [-1.40816183],\n",
       "          [-0.81208579],\n",
       "          [-0.0148608 ],\n",
       "          [-0.56956778],\n",
       "          [ 0.74015032]],\n",
       "\n",
       "         [[ 1.11859761],\n",
       "          [ 0.29261147],\n",
       "          [-0.18623732],\n",
       "          [-0.48003077],\n",
       "          [-0.68512664],\n",
       "          [-0.39688791]],\n",
       "\n",
       "         [[-0.73504118],\n",
       "          [-0.31278472],\n",
       "          [-0.4173809 ],\n",
       "          [ 1.63469482],\n",
       "          [-0.69423281],\n",
       "          [ 2.31062343]],\n",
       "\n",
       "         [[-0.30975143],\n",
       "          [ 1.31047923],\n",
       "          [ 0.27134728],\n",
       "          [-1.1433418 ],\n",
       "          [ 0.41489171],\n",
       "          [ 1.65903279]],\n",
       "\n",
       "         [[-0.28870285],\n",
       "          [-0.86257039],\n",
       "          [ 1.42763057],\n",
       "          [-0.14489866],\n",
       "          [ 0.34889549],\n",
       "          [-0.9236759 ]]]],\n",
       "\n",
       "\n",
       "\n",
       "       [[[[-1.00074833],\n",
       "          [ 0.47834331],\n",
       "          [-0.67627918],\n",
       "          [-0.15697185],\n",
       "          [ 0.8680513 ],\n",
       "          [ 1.36677977]],\n",
       "\n",
       "         [[ 0.15262315],\n",
       "          [ 0.11452006],\n",
       "          [-0.55647054],\n",
       "          [-0.66290773],\n",
       "          [-2.34482552],\n",
       "          [ 0.04731421]],\n",
       "\n",
       "         [[-0.35868795],\n",
       "          [ 0.69994109],\n",
       "          [ 1.34642257],\n",
       "          [-0.1405576 ],\n",
       "          [ 0.0197466 ],\n",
       "          [-0.79863673]],\n",
       "\n",
       "         [[ 0.67889442],\n",
       "          [-1.06695003],\n",
       "          [ 0.22404416],\n",
       "          [ 0.01829867],\n",
       "          [-0.7487092 ],\n",
       "          [-0.21927056]],\n",
       "\n",
       "         [[ 2.15439561],\n",
       "          [-0.30064227],\n",
       "          [-1.25789873],\n",
       "          [ 0.67070115],\n",
       "          [-1.2451093 ],\n",
       "          [ 0.17997124]]],\n",
       "\n",
       "\n",
       "        [[[ 0.55549466],\n",
       "          [ 1.30211382],\n",
       "          [ 0.85783117],\n",
       "          [ 1.94536306],\n",
       "          [ 0.17124517],\n",
       "          [-0.70239787]],\n",
       "\n",
       "         [[ 0.37811057],\n",
       "          [-0.02287389],\n",
       "          [-0.95471202],\n",
       "          [ 1.05306608],\n",
       "          [-0.54247583],\n",
       "          [-0.57454997]],\n",
       "\n",
       "         [[-1.39629906],\n",
       "          [-0.81016975],\n",
       "          [ 0.68172555],\n",
       "          [ 0.44566076],\n",
       "          [-1.4962117 ],\n",
       "          [ 1.00679249]],\n",
       "\n",
       "         [[-1.3614129 ],\n",
       "          [-1.9301615 ],\n",
       "          [-0.36603093],\n",
       "          [ 1.63834676],\n",
       "          [-0.7486383 ],\n",
       "          [ 0.52260529]],\n",
       "\n",
       "         [[-0.79081936],\n",
       "          [-2.8410221 ],\n",
       "          [ 0.92857715],\n",
       "          [ 0.76645904],\n",
       "          [-0.29344108],\n",
       "          [ 1.65089948]]],\n",
       "\n",
       "\n",
       "        [[[ 1.62493843],\n",
       "          [-1.72215832],\n",
       "          [ 1.14711037],\n",
       "          [ 1.81238798],\n",
       "          [-0.30398039],\n",
       "          [-1.86881166]],\n",
       "\n",
       "         [[-2.12596033],\n",
       "          [-0.02544329],\n",
       "          [-0.46905863],\n",
       "          [-0.73339761],\n",
       "          [-1.4199672 ],\n",
       "          [-0.3152497 ]],\n",
       "\n",
       "         [[-0.04421861],\n",
       "          [-1.26576093],\n",
       "          [-0.82186602],\n",
       "          [ 0.13758895],\n",
       "          [ 2.07628578],\n",
       "          [ 1.29199779]],\n",
       "\n",
       "         [[ 0.88104706],\n",
       "          [ 0.45593375],\n",
       "          [ 0.91342203],\n",
       "          [ 0.19392175],\n",
       "          [-0.29127206],\n",
       "          [-1.06444887]],\n",
       "\n",
       "         [[ 0.2166766 ],\n",
       "          [-1.0380665 ],\n",
       "          [-0.94637389],\n",
       "          [-0.79055657],\n",
       "          [-0.15936514],\n",
       "          [-2.18701375]]],\n",
       "\n",
       "\n",
       "        [[[-1.41895803],\n",
       "          [-0.36105481],\n",
       "          [-0.32264417],\n",
       "          [ 0.53565463],\n",
       "          [-0.31599655],\n",
       "          [ 2.02537732]],\n",
       "\n",
       "         [[-0.72006785],\n",
       "          [-0.20327809],\n",
       "          [ 0.56260811],\n",
       "          [-0.69602394],\n",
       "          [ 0.8250113 ],\n",
       "          [-1.52556195]],\n",
       "\n",
       "         [[-0.01956886],\n",
       "          [ 0.15059506],\n",
       "          [ 0.47262494],\n",
       "          [-1.18064044],\n",
       "          [ 0.59070684],\n",
       "          [-0.62941815]],\n",
       "\n",
       "         [[-1.40992358],\n",
       "          [ 0.76515986],\n",
       "          [ 0.55223332],\n",
       "          [ 0.69217056],\n",
       "          [ 0.74854356],\n",
       "          [-3.48426642]],\n",
       "\n",
       "         [[ 0.31202802],\n",
       "          [-0.73147228],\n",
       "          [ 0.69305502],\n",
       "          [-0.81898104],\n",
       "          [ 0.19792695],\n",
       "          [-0.03783604]]]],\n",
       "\n",
       "\n",
       "\n",
       "       [[[[ 1.99390972],\n",
       "          [-0.34917436],\n",
       "          [ 0.57126143],\n",
       "          [ 0.32402424],\n",
       "          [ 0.17480368],\n",
       "          [ 0.95582871]],\n",
       "\n",
       "         [[ 1.12027371],\n",
       "          [-1.77695685],\n",
       "          [ 0.42148758],\n",
       "          [-1.21836605],\n",
       "          [ 0.7891932 ],\n",
       "          [ 1.44807008]],\n",
       "\n",
       "         [[ 0.73295751],\n",
       "          [-0.34701742],\n",
       "          [-0.57629242],\n",
       "          [ 0.23986382],\n",
       "          [ 1.76518042],\n",
       "          [-0.55550316]],\n",
       "\n",
       "         [[-1.59154629],\n",
       "          [-0.45146694],\n",
       "          [ 0.09016767],\n",
       "          [-1.07480717],\n",
       "          [-0.21837785],\n",
       "          [ 1.53040443]],\n",
       "\n",
       "         [[-0.49684707],\n",
       "          [ 1.71211397],\n",
       "          [-0.72085467],\n",
       "          [ 1.32452387],\n",
       "          [-0.69293299],\n",
       "          [ 0.12568197]]],\n",
       "\n",
       "\n",
       "        [[[ 0.76537533],\n",
       "          [-0.19848109],\n",
       "          [ 0.20695598],\n",
       "          [ 0.03867643],\n",
       "          [-1.81076502],\n",
       "          [-0.30952213]],\n",
       "\n",
       "         [[ 0.47614407],\n",
       "          [-1.42617489],\n",
       "          [ 0.30736345],\n",
       "          [-0.73642884],\n",
       "          [-0.16320278],\n",
       "          [-0.03160956]],\n",
       "\n",
       "         [[ 1.81921609],\n",
       "          [ 0.44099949],\n",
       "          [ 1.51736882],\n",
       "          [ 1.41730896],\n",
       "          [-0.34399877],\n",
       "          [ 0.07350283]],\n",
       "\n",
       "         [[ 0.79115775],\n",
       "          [-0.79997785],\n",
       "          [ 0.81441712],\n",
       "          [-0.84032842],\n",
       "          [-0.0583044 ],\n",
       "          [ 0.30235049]],\n",
       "\n",
       "         [[ 0.72020835],\n",
       "          [ 0.65832048],\n",
       "          [ 0.42894014],\n",
       "          [ 0.83993274],\n",
       "          [-0.71447254],\n",
       "          [-0.59294357]]],\n",
       "\n",
       "\n",
       "        [[[ 1.49230083],\n",
       "          [ 0.79710765],\n",
       "          [-0.78998265],\n",
       "          [ 1.77666198],\n",
       "          [ 0.11320966],\n",
       "          [-0.85644474]],\n",
       "\n",
       "         [[ 0.0853798 ],\n",
       "          [-0.37254389],\n",
       "          [-0.10168192],\n",
       "          [ 1.25277685],\n",
       "          [ 1.15436584],\n",
       "          [-0.77076347]],\n",
       "\n",
       "         [[ 1.89784631],\n",
       "          [ 0.43873997],\n",
       "          [ 0.75270046],\n",
       "          [ 0.69908122],\n",
       "          [-0.82383968],\n",
       "          [-0.13540975]],\n",
       "\n",
       "         [[-0.47513862],\n",
       "          [-0.13116547],\n",
       "          [-0.59633292],\n",
       "          [ 0.29941909],\n",
       "          [-0.59924954],\n",
       "          [ 2.12323368]],\n",
       "\n",
       "         [[-1.27210995],\n",
       "          [-1.37169084],\n",
       "          [ 1.48649232],\n",
       "          [-0.2513435 ],\n",
       "          [-0.59916457],\n",
       "          [ 0.63928493]]],\n",
       "\n",
       "\n",
       "        [[[ 0.372396  ],\n",
       "          [-0.17616047],\n",
       "          [-0.90644846],\n",
       "          [-0.89512483],\n",
       "          [-0.22730704],\n",
       "          [ 0.04693618]],\n",
       "\n",
       "         [[-1.07395915],\n",
       "          [-1.12613597],\n",
       "          [-0.81604352],\n",
       "          [-0.32863151],\n",
       "          [ 0.97085787],\n",
       "          [ 0.164132  ]],\n",
       "\n",
       "         [[ 0.49986138],\n",
       "          [-0.61759697],\n",
       "          [-0.28116253],\n",
       "          [ 0.66647059],\n",
       "          [ 0.9979561 ],\n",
       "          [-0.86199891]],\n",
       "\n",
       "         [[ 0.01494617],\n",
       "          [-0.40714405],\n",
       "          [-1.27142369],\n",
       "          [-0.34721114],\n",
       "          [-1.57506157],\n",
       "          [-0.60104217]],\n",
       "\n",
       "         [[ 0.34269261],\n",
       "          [-0.45609203],\n",
       "          [ 1.03066085],\n",
       "          [-0.6102869 ],\n",
       "          [ 0.27051962],\n",
       "          [-0.91337385]]]]])"
      ]
     },
     "execution_count": 28,
     "metadata": {},
     "output_type": "execute_result"
    }
   ],
   "source": [
    "arr=np.random.randn(3,4,5,6,1)  #5d array\n",
    "arr"
   ]
  },
  {
   "cell_type": "code",
   "execution_count": 29,
   "metadata": {},
   "outputs": [
    {
     "data": {
      "text/plain": [
       "(3, 4, 5, 6, 1)"
      ]
     },
     "execution_count": 29,
     "metadata": {},
     "output_type": "execute_result"
    }
   ],
   "source": [
    "arr.shape"
   ]
  },
  {
   "cell_type": "markdown",
   "metadata": {},
   "source": [
    "np.random.random_sample(), same as np.random.rand()"
   ]
  },
  {
   "cell_type": "code",
   "execution_count": 30,
   "metadata": {},
   "outputs": [
    {
     "data": {
      "text/plain": [
       "0.30220739306520195"
      ]
     },
     "execution_count": 30,
     "metadata": {},
     "output_type": "execute_result"
    }
   ],
   "source": [
    "np.random.random_sample()"
   ]
  },
  {
   "cell_type": "code",
   "execution_count": 31,
   "metadata": {},
   "outputs": [
    {
     "data": {
      "text/plain": [
       "array([0.85233041, 0.86047067, 0.74951981])"
      ]
     },
     "execution_count": 31,
     "metadata": {},
     "output_type": "execute_result"
    }
   ],
   "source": [
    "np.random.random_sample((3))"
   ]
  },
  {
   "cell_type": "code",
   "execution_count": 32,
   "metadata": {},
   "outputs": [
    {
     "data": {
      "text/plain": [
       "array([[0.10870863, 0.28432871, 0.73919187, 0.38338033],\n",
       "       [0.37016989, 0.08733408, 0.39376984, 0.31132728],\n",
       "       [0.12709303, 0.69345622, 0.86996502, 0.10036674]])"
      ]
     },
     "execution_count": 32,
     "metadata": {},
     "output_type": "execute_result"
    }
   ],
   "source": [
    "np.random.random_sample(size=(3,4))"
   ]
  },
  {
   "cell_type": "code",
   "execution_count": 33,
   "metadata": {},
   "outputs": [
    {
     "data": {
      "text/plain": [
       "0.4305123535510077"
      ]
     },
     "execution_count": 33,
     "metadata": {},
     "output_type": "execute_result"
    }
   ],
   "source": [
    "np.random.rand()"
   ]
  },
  {
   "cell_type": "markdown",
   "metadata": {},
   "source": [
    "np.random.randit(size=None)  works just like rand() except it returns integers between the passed range"
   ]
  },
  {
   "cell_type": "code",
   "execution_count": 34,
   "metadata": {},
   "outputs": [
    {
     "data": {
      "text/plain": [
       "array([[4, 1],\n",
       "       [2, 5],\n",
       "       [4, 5],\n",
       "       [1, 4],\n",
       "       [2, 1],\n",
       "       [5, 4],\n",
       "       [2, 4],\n",
       "       [4, 1],\n",
       "       [5, 3],\n",
       "       [1, 2]])"
      ]
     },
     "execution_count": 34,
     "metadata": {},
     "output_type": "execute_result"
    }
   ],
   "source": [
    "np.random.randint(1,6, size=(10,2)) #np.random class takes size, where as normally, numpy uses shape."
   ]
  },
  {
   "cell_type": "code",
   "execution_count": 35,
   "metadata": {},
   "outputs": [
    {
     "data": {
      "text/plain": [
       "array([[2, 2, 3, 2],\n",
       "       [3, 2, 3, 4],\n",
       "       [3, 2, 2, 2]])"
      ]
     },
     "execution_count": 35,
     "metadata": {},
     "output_type": "execute_result"
    }
   ],
   "source": [
    "arr=np.random.randint(1,5, size=(3,4))\n",
    "arr"
   ]
  },
  {
   "cell_type": "code",
   "execution_count": 36,
   "metadata": {},
   "outputs": [
    {
     "data": {
      "text/plain": [
       "12"
      ]
     },
     "execution_count": 36,
     "metadata": {},
     "output_type": "execute_result"
    }
   ],
   "source": [
    "arr.size"
   ]
  },
  {
   "cell_type": "code",
   "execution_count": 37,
   "metadata": {},
   "outputs": [
    {
     "data": {
      "text/plain": [
       "(3, 4)"
      ]
     },
     "execution_count": 37,
     "metadata": {},
     "output_type": "execute_result"
    }
   ],
   "source": [
    "arr.shape"
   ]
  },
  {
   "cell_type": "code",
   "execution_count": 38,
   "metadata": {},
   "outputs": [
    {
     "data": {
      "text/plain": [
       "2"
      ]
     },
     "execution_count": 38,
     "metadata": {},
     "output_type": "execute_result"
    }
   ],
   "source": [
    "arr.ndim"
   ]
  },
  {
   "cell_type": "code",
   "execution_count": 39,
   "metadata": {},
   "outputs": [
    {
     "data": {
      "text/plain": [
       "array([[2, 2, 3, 2],\n",
       "       [3, 2, 3, 4],\n",
       "       [3, 2, 2, 2]])"
      ]
     },
     "execution_count": 39,
     "metadata": {},
     "output_type": "execute_result"
    }
   ],
   "source": [
    "arr"
   ]
  },
  {
   "cell_type": "markdown",
   "metadata": {},
   "source": [
    "<h3>Reshaping arrays</h3>\n",
    "<p>A lot of ml models will expect data only in a particular shape, during those times these functions come in handy.</p>"
   ]
  },
  {
   "cell_type": "code",
   "execution_count": 40,
   "metadata": {},
   "outputs": [
    {
     "data": {
      "text/plain": [
       "array([[2, 2, 3],\n",
       "       [2, 3, 2],\n",
       "       [3, 4, 3],\n",
       "       [2, 2, 2]])"
      ]
     },
     "execution_count": 40,
     "metadata": {},
     "output_type": "execute_result"
    }
   ],
   "source": [
    "arr.reshape(4,3) #notice how it is reshaping the array arr, it goes through each row of the original and places the elements as they come, into each row of the new shape. One after another.\n",
    "\n",
    "# arr.reshape(5,6) #gives an error. total 30 elements now to be filled."
   ]
  },
  {
   "cell_type": "code",
   "execution_count": 41,
   "metadata": {},
   "outputs": [
    {
     "data": {
      "text/plain": [
       "array([[2, 2, 3, 2],\n",
       "       [3, 2, 3, 4],\n",
       "       [3, 2, 2, 2]])"
      ]
     },
     "execution_count": 41,
     "metadata": {},
     "output_type": "execute_result"
    }
   ],
   "source": [
    "arr  #original array doesn't get changed."
   ]
  },
  {
   "cell_type": "code",
   "execution_count": 42,
   "metadata": {},
   "outputs": [
    {
     "data": {
      "text/plain": [
       "array([2, 2, 3, 2, 3, 2, 3, 4, 3, 2, 2, 2])"
      ]
     },
     "execution_count": 42,
     "metadata": {},
     "output_type": "execute_result"
    }
   ],
   "source": [
    "arr.reshape(12,)  # 1D array if no column number is passed."
   ]
  },
  {
   "cell_type": "code",
   "execution_count": 43,
   "metadata": {},
   "outputs": [
    {
     "data": {
      "text/plain": [
       "array([[2],\n",
       "       [2],\n",
       "       [3],\n",
       "       [2],\n",
       "       [3],\n",
       "       [2],\n",
       "       [3],\n",
       "       [4],\n",
       "       [3],\n",
       "       [2],\n",
       "       [2],\n",
       "       [2]])"
      ]
     },
     "execution_count": 43,
     "metadata": {},
     "output_type": "execute_result"
    }
   ],
   "source": [
    "arr.reshape(12,1)  # 2D array if column number is passed."
   ]
  },
  {
   "cell_type": "code",
   "execution_count": 44,
   "metadata": {},
   "outputs": [
    {
     "data": {
      "text/plain": [
       "array([[[2, 2, 3],\n",
       "        [2, 3, 2]],\n",
       "\n",
       "       [[3, 4, 3],\n",
       "        [2, 2, 2]]])"
      ]
     },
     "execution_count": 44,
     "metadata": {},
     "output_type": "execute_result"
    }
   ],
   "source": [
    "arr.reshape(2,2,3)  #3d array"
   ]
  },
  {
   "cell_type": "code",
   "execution_count": 45,
   "metadata": {},
   "outputs": [
    {
     "data": {
      "text/plain": [
       "array([[[2, 2],\n",
       "        [3, 2],\n",
       "        [3, 2]],\n",
       "\n",
       "       [[3, 4],\n",
       "        [3, 2],\n",
       "        [2, 2]]])"
      ]
     },
     "execution_count": 45,
     "metadata": {},
     "output_type": "execute_result"
    }
   ],
   "source": [
    "arr.reshape(2,3,2)"
   ]
  },
  {
   "cell_type": "markdown",
   "metadata": {},
   "source": [
    "let's say you want only 4 rows, but you don't know how many columns you want, or vice versa, just pass -1 in the other field. This is extremely useful for passing data in a certain format for a data with a huge shape."
   ]
  },
  {
   "cell_type": "code",
   "execution_count": 46,
   "metadata": {},
   "outputs": [
    {
     "data": {
      "text/plain": [
       "array([[2, 2, 3],\n",
       "       [2, 3, 2],\n",
       "       [3, 4, 3],\n",
       "       [2, 2, 2]])"
      ]
     },
     "execution_count": 46,
     "metadata": {},
     "output_type": "execute_result"
    }
   ],
   "source": [
    "arr.reshape(4,-1)"
   ]
  },
  {
   "cell_type": "code",
   "execution_count": 47,
   "metadata": {},
   "outputs": [
    {
     "data": {
      "text/plain": [
       "array([[2, 2, 3],\n",
       "       [2, 3, 2],\n",
       "       [3, 4, 3],\n",
       "       [2, 2, 2]])"
      ]
     },
     "execution_count": 47,
     "metadata": {},
     "output_type": "execute_result"
    }
   ],
   "source": [
    "arr.reshape(-1, 3)"
   ]
  },
  {
   "cell_type": "code",
   "execution_count": 48,
   "metadata": {},
   "outputs": [],
   "source": [
    "# arr.reshape(5, -1) #gives an error, cause no pair with 5 in it would fit."
   ]
  },
  {
   "cell_type": "markdown",
   "metadata": {},
   "source": [
    "works with more than 2D as well."
   ]
  },
  {
   "cell_type": "code",
   "execution_count": 49,
   "metadata": {},
   "outputs": [
    {
     "data": {
      "text/plain": [
       "array([[[2, 2, 3],\n",
       "        [2, 3, 2]],\n",
       "\n",
       "       [[3, 4, 3],\n",
       "        [2, 2, 2]]])"
      ]
     },
     "execution_count": 49,
     "metadata": {},
     "output_type": "execute_result"
    }
   ],
   "source": [
    "arr.reshape(2,2,-1)"
   ]
  },
  {
   "cell_type": "code",
   "execution_count": 50,
   "metadata": {},
   "outputs": [
    {
     "data": {
      "text/plain": [
       "array([[[[[[[[[[[[2, 2, 3],\n",
       "                 [2, 3, 2]],\n",
       "\n",
       "                [[3, 4, 3],\n",
       "                 [2, 2, 2]]]]]]]]]]]])"
      ]
     },
     "execution_count": 50,
     "metadata": {},
     "output_type": "execute_result"
    }
   ],
   "source": [
    "arr.reshape(1, 1, 1, 1, 1, 1, 1, 1, 1, 2, 2, 3)"
   ]
  },
  {
   "cell_type": "markdown",
   "metadata": {},
   "source": [
    "arr.reshape is a shallow copy"
   ]
  },
  {
   "cell_type": "code",
   "execution_count": 51,
   "metadata": {},
   "outputs": [
    {
     "data": {
      "text/plain": [
       "array([[2],\n",
       "       [2],\n",
       "       [3],\n",
       "       [2],\n",
       "       [3],\n",
       "       [2],\n",
       "       [3],\n",
       "       [4],\n",
       "       [3],\n",
       "       [2],\n",
       "       [2],\n",
       "       [2]])"
      ]
     },
     "execution_count": 51,
     "metadata": {},
     "output_type": "execute_result"
    }
   ],
   "source": [
    "arr2=arr.reshape(12,-1)\n",
    "arr2"
   ]
  },
  {
   "cell_type": "code",
   "execution_count": 52,
   "metadata": {},
   "outputs": [
    {
     "data": {
      "text/plain": [
       "(12, 1)"
      ]
     },
     "execution_count": 52,
     "metadata": {},
     "output_type": "execute_result"
    }
   ],
   "source": [
    "arr2.shape"
   ]
  },
  {
   "cell_type": "code",
   "execution_count": 53,
   "metadata": {},
   "outputs": [
    {
     "data": {
      "text/plain": [
       "array([[  2],\n",
       "       [  2],\n",
       "       [  3],\n",
       "       [  2],\n",
       "       [199],\n",
       "       [  2],\n",
       "       [  3],\n",
       "       [  4],\n",
       "       [  3],\n",
       "       [  2],\n",
       "       [  2],\n",
       "       [  2]])"
      ]
     },
     "execution_count": 53,
     "metadata": {},
     "output_type": "execute_result"
    }
   ],
   "source": [
    "arr2[4,0]=199\n",
    "arr2"
   ]
  },
  {
   "cell_type": "code",
   "execution_count": 54,
   "metadata": {},
   "outputs": [
    {
     "data": {
      "text/plain": [
       "array([[  2,   2,   3,   2],\n",
       "       [199,   2,   3,   4],\n",
       "       [  3,   2,   2,   2]])"
      ]
     },
     "execution_count": 54,
     "metadata": {},
     "output_type": "execute_result"
    }
   ],
   "source": [
    "arr #changes made in arr2 are also being reflected in arr."
   ]
  },
  {
   "cell_type": "markdown",
   "metadata": {},
   "source": [
    ".base property of the reshape function tells us the original array which we are reshaping, that is arr"
   ]
  },
  {
   "cell_type": "code",
   "execution_count": 55,
   "metadata": {},
   "outputs": [
    {
     "data": {
      "text/plain": [
       "array([[  2,   2,   3,   2],\n",
       "       [199,   2,   3,   4],\n",
       "       [  3,   2,   2,   2]])"
      ]
     },
     "execution_count": 55,
     "metadata": {},
     "output_type": "execute_result"
    }
   ],
   "source": [
    "arr"
   ]
  },
  {
   "cell_type": "code",
   "execution_count": 56,
   "metadata": {},
   "outputs": [
    {
     "data": {
      "text/plain": [
       "array([[  2,   2,   3,   2],\n",
       "       [199,   2,   3,   4],\n",
       "       [  3,   2,   2,   2]])"
      ]
     },
     "execution_count": 56,
     "metadata": {},
     "output_type": "execute_result"
    }
   ],
   "source": [
    "arr.reshape(12,1).base #returns the original arr that is being reshaped, i.e., arr"
   ]
  },
  {
   "cell_type": "code",
   "execution_count": 57,
   "metadata": {},
   "outputs": [
    {
     "data": {
      "text/plain": [
       "array([[  2,   2,   3,   2],\n",
       "       [199,   2,   3,   4],\n",
       "       [  3,   2,   2,   2]])"
      ]
     },
     "execution_count": 57,
     "metadata": {},
     "output_type": "execute_result"
    }
   ],
   "source": [
    "arr2.reshape(6,-1).base  #arr2 is being reshaped but since it is a shallow copy of arr, arr is returned by .base"
   ]
  },
  {
   "cell_type": "code",
   "execution_count": 58,
   "metadata": {},
   "outputs": [],
   "source": [
    "lis=[1,2,3,4]"
   ]
  },
  {
   "cell_type": "code",
   "execution_count": 59,
   "metadata": {},
   "outputs": [
    {
     "data": {
      "text/plain": [
       "array([1, 2, 3, 4])"
      ]
     },
     "execution_count": 59,
     "metadata": {},
     "output_type": "execute_result"
    }
   ],
   "source": [
    "arr=np.asarray(lis)\n",
    "arr"
   ]
  },
  {
   "cell_type": "code",
   "execution_count": 60,
   "metadata": {},
   "outputs": [
    {
     "data": {
      "text/plain": [
       "1"
      ]
     },
     "execution_count": 60,
     "metadata": {},
     "output_type": "execute_result"
    }
   ],
   "source": [
    "arr.ndim #1d array"
   ]
  },
  {
   "cell_type": "code",
   "execution_count": 61,
   "metadata": {},
   "outputs": [
    {
     "data": {
      "text/plain": [
       "2"
      ]
     },
     "execution_count": 61,
     "metadata": {},
     "output_type": "execute_result"
    }
   ],
   "source": [
    "arr2=np.array([[1,2], [3,4]])\n",
    "arr2.ndim"
   ]
  },
  {
   "cell_type": "code",
   "execution_count": 62,
   "metadata": {},
   "outputs": [
    {
     "data": {
      "text/plain": [
       "2"
      ]
     },
     "execution_count": 62,
     "metadata": {},
     "output_type": "execute_result"
    }
   ],
   "source": [
    "arr3=np.zeros((3,4))\n",
    "arr3.ndim"
   ]
  },
  {
   "cell_type": "markdown",
   "metadata": {},
   "source": [
    "<a>Very important</a>"
   ]
  },
  {
   "cell_type": "code",
   "execution_count": 63,
   "metadata": {},
   "outputs": [
    {
     "data": {
      "text/plain": [
       "array([[[0., 0., 0., 0.],\n",
       "        [0., 0., 0., 0.],\n",
       "        [0., 0., 0., 0.]]])"
      ]
     },
     "execution_count": 63,
     "metadata": {},
     "output_type": "execute_result"
    }
   ],
   "source": [
    "arr3=np.zeros(shape=(1,3,4))  # 3 rows and 4 columns, +1 extra dimension!!\n",
    "#it's hard to visualize arrays\n",
    "arr3"
   ]
  },
  {
   "cell_type": "code",
   "execution_count": 64,
   "metadata": {},
   "outputs": [
    {
     "data": {
      "text/plain": [
       "3"
      ]
     },
     "execution_count": 64,
     "metadata": {},
     "output_type": "execute_result"
    }
   ],
   "source": [
    "arr3.ndim"
   ]
  },
  {
   "cell_type": "code",
   "execution_count": 65,
   "metadata": {},
   "outputs": [
    {
     "data": {
      "text/plain": [
       "(1, 3, 4)"
      ]
     },
     "execution_count": 65,
     "metadata": {},
     "output_type": "execute_result"
    }
   ],
   "source": [
    "arr3.shape"
   ]
  },
  {
   "cell_type": "markdown",
   "metadata": {},
   "source": [
    "3 rows and 4 columns, that makes a 2d array.\n",
    "+1d +1d\n"
   ]
  },
  {
   "cell_type": "code",
   "execution_count": 66,
   "metadata": {},
   "outputs": [
    {
     "data": {
      "text/plain": [
       "array([[[[0., 0., 0., 0.],\n",
       "         [0., 0., 0., 0.],\n",
       "         [0., 0., 0., 0.]]]])"
      ]
     },
     "execution_count": 66,
     "metadata": {},
     "output_type": "execute_result"
    }
   ],
   "source": [
    "arr4=np.zeros(shape=(1,1,3,4))\n",
    "arr4  "
   ]
  },
  {
   "cell_type": "markdown",
   "metadata": {},
   "source": [
    "what about shape=2,3,4."
   ]
  },
  {
   "cell_type": "code",
   "execution_count": 67,
   "metadata": {},
   "outputs": [
    {
     "data": {
      "text/plain": [
       "array([[[0., 0., 0., 0.],\n",
       "        [0., 0., 0., 0.],\n",
       "        [0., 0., 0., 0.]],\n",
       "\n",
       "       [[0., 0., 0., 0.],\n",
       "        [0., 0., 0., 0.],\n",
       "        [0., 0., 0., 0.]]])"
      ]
     },
     "execution_count": 67,
     "metadata": {},
     "output_type": "execute_result"
    }
   ],
   "source": [
    "arr3=np.zeros(shape=(2,3,4))  # 3 rows and 4 columns, that's 2d, 2 times that matrix.\n",
    "arr3"
   ]
  },
  {
   "cell_type": "code",
   "execution_count": 68,
   "metadata": {},
   "outputs": [
    {
     "data": {
      "text/plain": [
       "array([[[0., 0., 0., 0.],\n",
       "        [0., 0., 0., 0.],\n",
       "        [0., 0., 0., 0.]],\n",
       "\n",
       "       [[0., 0., 0., 0.],\n",
       "        [0., 0., 0., 0.],\n",
       "        [0., 0., 0., 0.]],\n",
       "\n",
       "       [[0., 0., 0., 0.],\n",
       "        [0., 0., 0., 0.],\n",
       "        [0., 0., 0., 0.]]])"
      ]
     },
     "execution_count": 68,
     "metadata": {},
     "output_type": "execute_result"
    }
   ],
   "source": [
    "np.zeros(shape=(3,3,4)) # 3 rows and 4 column, 3 times"
   ]
  },
  {
   "cell_type": "code",
   "execution_count": 69,
   "metadata": {},
   "outputs": [
    {
     "data": {
      "text/plain": [
       "array([[[[0., 0., 0., 0.],\n",
       "         [0., 0., 0., 0.],\n",
       "         [0., 0., 0., 0.]],\n",
       "\n",
       "        [[0., 0., 0., 0.],\n",
       "         [0., 0., 0., 0.],\n",
       "         [0., 0., 0., 0.]]],\n",
       "\n",
       "\n",
       "       [[[0., 0., 0., 0.],\n",
       "         [0., 0., 0., 0.],\n",
       "         [0., 0., 0., 0.]],\n",
       "\n",
       "        [[0., 0., 0., 0.],\n",
       "         [0., 0., 0., 0.],\n",
       "         [0., 0., 0., 0.]]]])"
      ]
     },
     "execution_count": 69,
     "metadata": {},
     "output_type": "execute_result"
    }
   ],
   "source": [
    "arr4=np.zeros(shape=(2,2,3,4))\n",
    "arr4"
   ]
  }
 ],
 "metadata": {
  "kernelspec": {
   "display_name": "venv",
   "language": "python",
   "name": "python3"
  },
  "language_info": {
   "codemirror_mode": {
    "name": "ipython",
    "version": 3
   },
   "file_extension": ".py",
   "mimetype": "text/x-python",
   "name": "python",
   "nbconvert_exporter": "python",
   "pygments_lexer": "ipython3",
   "version": "3.11.4"
  }
 },
 "nbformat": 4,
 "nbformat_minor": 2
}
